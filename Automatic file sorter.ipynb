{
 "cells": [
  {
   "cell_type": "code",
   "execution_count": 49,
   "id": "2322cb8c-0f51-4c99-b38e-f7140727dfd4",
   "metadata": {},
   "outputs": [],
   "source": [
    "import os, shutil\n",
    "\n",
    "path = r\"Downloads/\"\n",
    "folder_names = ['csv files', 'image files', 'sql files','pdf files']\n",
    "\n",
    "for loop in range(0, 4):\n",
    "    if not os.path.exists(path + folder_names[loop]):\n",
    "        os.makedirs(path + folder_names[loop])\n",
    "\n",
    "for file in os.listdir(path):\n",
    "    if \".csv\" in file:\n",
    "        shutil.move(path + file, path + \"csv files/\" + file)\n",
    "    elif \".png\" in file or \".jpg\" in file or \".jpeg\" in file:\n",
    "        shutil.move(path + file, path + \"image files/\" + file)\n",
    "    elif \".sql\" in file:\n",
    "        shutil.move(path + file, path + \"sql files/\" + file)\n",
    "    elif \".pdf\" in file:\n",
    "        shutil.move(path + file, path + \"pdf files/\" + file)\n",
    "\n"
   ]
  },
  {
   "cell_type": "code",
   "execution_count": 36,
   "id": "59d567eb-e6ee-45af-89c5-c2a46c3df6ce",
   "metadata": {},
   "outputs": [],
   "source": []
  },
  {
   "cell_type": "code",
   "execution_count": 24,
   "id": "c7332ca9-7f37-43bb-bf76-985436deff70",
   "metadata": {},
   "outputs": [],
   "source": []
  },
  {
   "cell_type": "code",
   "execution_count": null,
   "id": "ac4a0c27-98a2-4242-ab49-3d2a5c59b3c1",
   "metadata": {},
   "outputs": [],
   "source": []
  },
  {
   "cell_type": "code",
   "execution_count": null,
   "id": "c77140fa-43a9-4b7e-ad49-a5218e89bfe1",
   "metadata": {},
   "outputs": [],
   "source": []
  },
  {
   "cell_type": "code",
   "execution_count": null,
   "id": "93de2534-7483-49b3-b508-5b645c588ce8",
   "metadata": {},
   "outputs": [],
   "source": []
  },
  {
   "cell_type": "code",
   "execution_count": null,
   "id": "776e71f5-ca44-4260-8042-e390dea3c0ee",
   "metadata": {},
   "outputs": [],
   "source": []
  },
  {
   "cell_type": "code",
   "execution_count": null,
   "id": "e9aad720-5cd2-4349-bf88-ad94e6a849e0",
   "metadata": {},
   "outputs": [],
   "source": []
  },
  {
   "cell_type": "code",
   "execution_count": null,
   "id": "39a577eb-20f6-48ef-a29f-09928fe226c9",
   "metadata": {},
   "outputs": [],
   "source": []
  },
  {
   "cell_type": "code",
   "execution_count": null,
   "id": "44afd123-56b1-4042-9819-9f942b03a279",
   "metadata": {},
   "outputs": [],
   "source": []
  }
 ],
 "metadata": {
  "kernelspec": {
   "display_name": "Python [conda env:base] *",
   "language": "python",
   "name": "conda-base-py"
  },
  "language_info": {
   "codemirror_mode": {
    "name": "ipython",
    "version": 3
   },
   "file_extension": ".py",
   "mimetype": "text/x-python",
   "name": "python",
   "nbconvert_exporter": "python",
   "pygments_lexer": "ipython3",
   "version": "3.13.5"
  }
 },
 "nbformat": 4,
 "nbformat_minor": 5
}
