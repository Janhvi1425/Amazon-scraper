{
 "cells": [
  {
   "cell_type": "code",
   "execution_count": 5,
   "id": "9f21aedc-f278-48c0-842e-903101e83e76",
   "metadata": {},
   "outputs": [],
   "source": [
    "import requests\n",
    "from bs4 import BeautifulSoup"
   ]
  },
  {
   "cell_type": "code",
   "execution_count": 11,
   "id": "22f99be1-a05d-4b5b-908c-6042ba559d63",
   "metadata": {},
   "outputs": [
    {
     "name": "stdout",
     "output_type": "stream",
     "text": [
      "\n",
      "✅ Scraped Product Info:\n",
      "\n",
      "Title: Samsung Galaxy S24 Ultra 5G AI Smartphone with Galaxy AI (Titanium Gray, 12GB, 256GB Storage), Snapdragon 8 Gen 3, 200 MP Camera with ProVisual Engine and 5000mAh Battery\n",
      "Price: 97,999.\n",
      "Rating: 4.4 out of 5 stars\n",
      "Reviews: 2,912 ratings\n",
      "Features:\n",
      "  - Galaxy AI - Welcome to the era of mobile AI. With Galaxy S24 Ultra and One UI in your hands, you can unleash completely new levels of creativity, productivity and possibility.\n",
      "  - Titanium Frame - Meet Galaxy S24 Ultra, the ultimate form of Galaxy Ultra built with a new titanium exterior and a 17.25cm flat display. It is an absolute marvel of design.\n",
      "  - Epic Camera - With the most megapixels on a Galaxy smartphone ever (200MP) and AI processing, Galaxy S24 Ultra sets the industry standard for image quality every time you hit the shutter. Also, the new ProVisual engine recognizes objects, improves color tone, reduces noise and brings out every detail.\n",
      "  - Powerful Processor - Victory can be yours with the new Snapdragon 8 Gen 3 for Galaxy that gives you the power you need for all the gameplay you want. backed by an intelligent battery that keep you going longer. Also, you get to manifest graphic effects in real time with ray tracing for hyper-realistic shadows and reflections.\n",
      "  - Built-in S Pen and Security - Experience seamless control and creativity, as the S Pen transforms your device into a versatile tool for productivity and artistry. While Knox protection and Samsung Wallet keep your data and payments safe.\n"
     ]
    }
   ],
   "source": [
    "HEADERS = {\n",
    "    \"Accept\": \"text/html,application/xhtml+xml,application/xml;q=0.9,image/avif,image/webp,image/apng,*/*;q=0.8,application/signed-exchange;v=b3;q=0.7\",\n",
    "    \"Accept-Encoding\": \"gzip, deflate, br, zstd\",\n",
    "    \"Accept-Language\": \"en-US,en-IN;q=0.9,en;q=0.8,hi-IN;q=0.7,hi;q=0.6,mr-IN;q=0.5,mr;q=0.4\",\n",
    "    \"Priority\": \"u=0, i\",\n",
    "    \"Sec-Ch-Ua\": \"\\\"Not;A=Brand\\\";v=\\\"99\\\", \\\"Google Chrome\\\";v=\\\"139\\\", \\\"Chromium\\\";v=\\\"139\\\"\",\n",
    "    \"Sec-Ch-Ua-Mobile\": \"?0\",\n",
    "    \"Sec-Ch-Ua-Platform\": \"\\\"Windows\\\"\",\n",
    "    \"Sec-Fetch-Dest\": \"document\",\n",
    "    \"Sec-Fetch-Mode\": \"navigate\",\n",
    "    \"Sec-Fetch-Site\": \"none\",\n",
    "    \"Sec-Fetch-User\": \"?1\",\n",
    "    \"Upgrade-Insecure-Requests\": \"1\",\n",
    "    \"User-Agent\": \"Mozilla/5.0 (Windows NT 10.0; Win64; x64) AppleWebKit/537.36 (KHTML, like Gecko) Chrome/139.0.0.0 Safari/537.36\",\n",
    "}\n",
    "\n",
    "def scrape_amazon_product(url):\n",
    "    response = requests.get(url, headers=HEADERS)\n",
    "\n",
    "    if response.status_code != 200:\n",
    "        print(f\"❌ Failed to fetch page, status code: {response.status_code}\")\n",
    "        return None\n",
    "\n",
    "    soup = BeautifulSoup(response.content, \"html.parser\")\n",
    "    data = {}\n",
    "    # Product Title\n",
    "    title_el = soup.find(\"span\", id=\"productTitle\")\n",
    "    data['Title'] = title_el.get_text(strip=True) if title_el else None\n",
    "    # Price\n",
    "    price_el = (\n",
    "        soup.find(\"span\", id=\"priceblock_ourprice\") or\n",
    "        soup.find(\"span\", id=\"priceblock_dealprice\") or\n",
    "        soup.find(\"span\", id=\"price_inside_buybox\") or\n",
    "        soup.find(\"span\", class_=\"a-price-whole\") or\n",
    "        soup.find(\"span\", class_=\"a-offscreen\")\n",
    "    )\n",
    "    data['Price'] = price_el.get_text(strip=True) if price_el else None\n",
    "    # Rating\n",
    "    rating_el = soup.find(\"span\", class_=\"a-icon-alt\")\n",
    "    data['Rating'] = rating_el.get_text(strip=True) if rating_el else None\n",
    "\n",
    "    # Number of reviews\n",
    "    reviews_el = soup.find(\"span\", id=\"acrCustomerReviewText\")\n",
    "    data['Reviews'] = reviews_el.get_text(strip=True) if reviews_el else None\n",
    "\n",
    "    # Key features (bullet points)\n",
    "    features = []\n",
    "    feature_list = soup.find(\"div\", id=\"feature-bullets\")\n",
    "    if feature_list:\n",
    "        for li in feature_list.find_all(\"span\", class_=\"a-list-item\"):\n",
    "            text = li.get_text(strip=True)\n",
    "            if text:\n",
    "                features.append(text)\n",
    "    data['Features'] = features\n",
    "\n",
    "    return data\n",
    "\n",
    "\n",
    "# Example usage\n",
    "if __name__ == \"__main__\":\n",
    "    URL = \"https://www.amazon.in/Samsung-Galaxy-Smartphone-Titanium-Storage/dp/B0CS5XW6TN\"\n",
    "    product_info = scrape_amazon_product(URL)\n",
    "\n",
    "    if product_info:\n",
    "        print(\"\\n✅ Scraped Product Info:\\n\")\n",
    "        for key, value in product_info.items():\n",
    "            if isinstance(value, list):\n",
    "                print(f\"{key}:\")\n",
    "                for v in value:\n",
    "                    print(f\"  - {v}\")\n",
    "            else:\n",
    "                print(f\"{key}: {value}\")\n"
   ]
  },
  {
   "cell_type": "code",
   "execution_count": null,
   "id": "a66e7c9e-1871-43df-b95f-d133f3fc8f74",
   "metadata": {},
   "outputs": [],
   "source": []
  },
  {
   "cell_type": "code",
   "execution_count": null,
   "id": "d697929f-1a4b-4571-bb5f-0f7dafad20eb",
   "metadata": {},
   "outputs": [],
   "source": []
  },
  {
   "cell_type": "code",
   "execution_count": null,
   "id": "e0425b26-3c59-4165-b7f2-28d6a02db517",
   "metadata": {},
   "outputs": [],
   "source": []
  },
  {
   "cell_type": "code",
   "execution_count": null,
   "id": "cc7260ce-f7a2-41b8-9b60-b9fee5bd16fb",
   "metadata": {},
   "outputs": [],
   "source": []
  },
  {
   "cell_type": "code",
   "execution_count": null,
   "id": "aa895ebb-5e71-422c-8a72-f96a2f820412",
   "metadata": {},
   "outputs": [],
   "source": []
  },
  {
   "cell_type": "code",
   "execution_count": null,
   "id": "5ecbadcf-8dbf-4f20-9e1a-ffca70ec2021",
   "metadata": {},
   "outputs": [],
   "source": []
  },
  {
   "cell_type": "code",
   "execution_count": null,
   "id": "cee3c91e-87ca-4768-ac87-8e884dd784ae",
   "metadata": {},
   "outputs": [],
   "source": []
  },
  {
   "cell_type": "code",
   "execution_count": null,
   "id": "56865d00-1d7a-4838-9fb0-2a98f14e7bdc",
   "metadata": {},
   "outputs": [],
   "source": []
  },
  {
   "cell_type": "code",
   "execution_count": null,
   "id": "fc447502-d2a7-4d19-ab3a-9932fae89a29",
   "metadata": {},
   "outputs": [],
   "source": []
  },
  {
   "cell_type": "code",
   "execution_count": null,
   "id": "8e96671d-bb79-4f2b-8ff3-90b13625df92",
   "metadata": {},
   "outputs": [],
   "source": []
  },
  {
   "cell_type": "code",
   "execution_count": null,
   "id": "45a59727-497a-4ec0-84ad-1b2bfb4fe3ba",
   "metadata": {},
   "outputs": [],
   "source": []
  },
  {
   "cell_type": "code",
   "execution_count": null,
   "id": "89e28c9f-6372-4320-ab8e-e22bda12111d",
   "metadata": {},
   "outputs": [],
   "source": []
  }
 ],
 "metadata": {
  "kernelspec": {
   "display_name": "Python [conda env:base] *",
   "language": "python",
   "name": "conda-base-py"
  },
  "language_info": {
   "codemirror_mode": {
    "name": "ipython",
    "version": 3
   },
   "file_extension": ".py",
   "mimetype": "text/x-python",
   "name": "python",
   "nbconvert_exporter": "python",
   "pygments_lexer": "ipython3",
   "version": "3.13.5"
  }
 },
 "nbformat": 4,
 "nbformat_minor": 5
}
